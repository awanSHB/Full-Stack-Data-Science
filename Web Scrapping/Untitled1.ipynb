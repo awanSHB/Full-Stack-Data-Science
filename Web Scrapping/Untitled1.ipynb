{
 "cells": [
  {
   "cell_type": "code",
   "execution_count": 33,
   "id": "ec98335d-9ef8-401a-bfcf-9c3e30ed7120",
   "metadata": {},
   "outputs": [],
   "source": [
    "import findspark\n",
    "findspark.init()\n",
    "\n",
    "from pyspark.sql import SparkSession\n",
    "from pyspark.sql.functions import expr\n",
    "import warnings\n",
    "warnings.filterwarnings('ignore')"
   ]
  },
  {
   "cell_type": "code",
   "execution_count": 18,
   "id": "db2c3e4b-008b-4090-b58a-d833b92f8d72",
   "metadata": {},
   "outputs": [],
   "source": [
    "spark = SparkSession.builder \\\n",
    "    .master('local[*]') \\\n",
    "    .appName('ETL Using Spark') \\\n",
    "    .config(\"spark.sql.files.ignoreCorruptFiles\", \"true\") \\\n",
    "    .getOrCreate()"
   ]
  },
  {
   "cell_type": "code",
   "execution_count": 19,
   "id": "3ba0922e-39ba-4ff2-841d-4ded53d44198",
   "metadata": {},
   "outputs": [],
   "source": [
    "data = [\n",
    "    (\"student1\",64,90),\n",
    "    (\"student2\",59,100),\n",
    "    (\"student3\",69,95),\n",
    "    (\"\",70,110),\n",
    "    (\"student5\",60,80),\n",
    "    (\"student3\",69,95),\n",
    "    (\"student6\",62,85),\n",
    "    (\"student7\",65,80),\n",
    "    (\"student7\",65,80)\n",
    "]"
   ]
  },
  {
   "cell_type": "code",
   "execution_count": 21,
   "id": "450490fe-48b4-4d31-9dcf-815ea9c939aa",
   "metadata": {},
   "outputs": [],
   "source": [
    "df = spark.createDataFrame(data, [\"student\", \"height_inches\",\"weight_pounds\"])"
   ]
  },
  {
   "cell_type": "code",
   "execution_count": 22,
   "id": "865a5b0a-d6ba-4aff-ad28-905a00361cde",
   "metadata": {},
   "outputs": [
    {
     "name": "stdout",
     "output_type": "stream",
     "text": [
      "+--------+-------------+-------------+\n",
      "| student|height_inches|weight_pounds|\n",
      "+--------+-------------+-------------+\n",
      "|student1|           64|           90|\n",
      "|student2|           59|          100|\n",
      "|student3|           69|           95|\n",
      "|        |           70|          110|\n",
      "|student5|           60|           80|\n",
      "|student3|           69|           95|\n",
      "|student6|           62|           85|\n",
      "|student7|           65|           80|\n",
      "|student7|           65|           80|\n",
      "+--------+-------------+-------------+\n",
      "\n"
     ]
    }
   ],
   "source": [
    "df.show()"
   ]
  },
  {
   "cell_type": "markdown",
   "id": "17b9dbab-986d-4d63-9f4a-3d3adae845f0",
   "metadata": {},
   "source": [
    "* write to csv "
   ]
  },
  {
   "cell_type": "code",
   "execution_count": 23,
   "id": "824d2250-dc5b-4ebe-b75c-f916226a565b",
   "metadata": {},
   "outputs": [],
   "source": [
    "# Convert Spark DataFrame to Pandas DataFrame\n",
    "pandas_df = df.toPandas()\n",
    "\n",
    "# Write data to CSV file in local file system using Pandas\n",
    "pandas_df.to_csv(\"student-hw.csv\", index=False)"
   ]
  },
  {
   "cell_type": "code",
   "execution_count": 25,
   "id": "00d4995b-8e20-4992-a667-a230d2ea9c0e",
   "metadata": {},
   "outputs": [
    {
     "name": "stdout",
     "output_type": "stream",
     "text": [
      "+--------+-------------+-------------+\n",
      "| student|height_inches|weight_pounds|\n",
      "+--------+-------------+-------------+\n",
      "|student1|           64|           90|\n",
      "|student2|           59|          100|\n",
      "|student3|           69|           95|\n",
      "|    NULL|           70|          110|\n",
      "|student5|           60|           80|\n",
      "|student3|           69|           95|\n",
      "|student6|           62|           85|\n",
      "|student7|           65|           80|\n",
      "|student7|           65|           80|\n",
      "+--------+-------------+-------------+\n",
      "\n"
     ]
    }
   ],
   "source": [
    "# Load student dataset\n",
    "df = spark.read.csv(\"file:///D:/PROGRAMMING/FULL STACK DATA SCIENCE/JupLab/Scrapping/student-hw.csv\", header=True, inferSchema=True)\n",
    "\n",
    "# Display dataframe\n",
    "df.show()"
   ]
  },
  {
   "cell_type": "code",
   "execution_count": 30,
   "id": "c127df4e-a356-4a1f-ac27-b5b74a796006",
   "metadata": {},
   "outputs": [],
   "source": [
    "# Convert DataFrame to Pandas DataFrame\n",
    "df_pandas = df.toPandas()\n",
    "\n",
    "# Write Pandas DataFrame to Parquet file\n",
    "df_pandas.to_parquet(\"D:/PROGRAMMING/FULL STACK DATA SCIENCE/JupLab/Scrapping/student-hw.parquet\", engine=\"pyarrow\", index=False)\n"
   ]
  },
  {
   "cell_type": "code",
   "execution_count": 31,
   "id": "63a67e00-e302-4750-9a24-8d2ec7c77d20",
   "metadata": {},
   "outputs": [],
   "source": [
    "df = spark.read.parquet(\"file:///D:/PROGRAMMING/FULL STACK DATA SCIENCE/JupLab/Scrapping/student-hw.parquet\")"
   ]
  },
  {
   "cell_type": "code",
   "execution_count": 32,
   "id": "d0fbbb6f-e075-4149-afdf-fa12da26cc00",
   "metadata": {},
   "outputs": [
    {
     "name": "stdout",
     "output_type": "stream",
     "text": [
      "+--------+-------------+-------------+\n",
      "| student|height_inches|weight_pounds|\n",
      "+--------+-------------+-------------+\n",
      "|student1|           64|           90|\n",
      "|student2|           59|          100|\n",
      "|student3|           69|           95|\n",
      "|    NULL|           70|          110|\n",
      "|student5|           60|           80|\n",
      "|student3|           69|           95|\n",
      "|student6|           62|           85|\n",
      "|student7|           65|           80|\n",
      "|student7|           65|           80|\n",
      "+--------+-------------+-------------+\n",
      "\n"
     ]
    }
   ],
   "source": [
    "df.show()"
   ]
  },
  {
   "cell_type": "markdown",
   "id": "81422cde-4978-4f35-8cf2-d9de0df16f94",
   "metadata": {},
   "source": [
    "# Transform "
   ]
  },
  {
   "cell_type": "code",
   "execution_count": 35,
   "id": "8dfe6750-8938-4854-81e6-e38756a0cb73",
   "metadata": {},
   "outputs": [
    {
     "name": "stdout",
     "output_type": "stream",
     "text": [
      "+--------+-------------+-------------+------------------+\n",
      "| student|height_inches|weight_pounds|height_centimeters|\n",
      "+--------+-------------+-------------+------------------+\n",
      "|student1|           64|           90|            162.56|\n",
      "|student2|           59|          100|            149.86|\n",
      "|student3|           69|           95|            175.26|\n",
      "|    NULL|           70|          110|            177.80|\n",
      "|student5|           60|           80|            152.40|\n",
      "|student3|           69|           95|            175.26|\n",
      "|student6|           62|           85|            157.48|\n",
      "|student7|           65|           80|            165.10|\n",
      "|student7|           65|           80|            165.10|\n",
      "+--------+-------------+-------------+------------------+\n",
      "\n"
     ]
    }
   ],
   "source": [
    "df = df.withColumn(\"height_centimeters\", expr(\"height_inches * 2.54\"))\n",
    "df.show()"
   ]
  },
  {
   "cell_type": "code",
   "execution_count": 36,
   "id": "556acbfc-ca2a-45a6-9c5f-a9b57e9b3e69",
   "metadata": {},
   "outputs": [
    {
     "name": "stdout",
     "output_type": "stream",
     "text": [
      "+--------+-------------+-------------+------------------+---------+\n",
      "| student|height_inches|weight_pounds|height_centimeters|weight_kg|\n",
      "+--------+-------------+-------------+------------------+---------+\n",
      "|student1|           64|           90|            162.56|40.823280|\n",
      "|student2|           59|          100|            149.86|45.359200|\n",
      "|student3|           69|           95|            175.26|43.091240|\n",
      "|    NULL|           70|          110|            177.80|49.895120|\n",
      "|student5|           60|           80|            152.40|36.287360|\n",
      "|student3|           69|           95|            175.26|43.091240|\n",
      "|student6|           62|           85|            157.48|38.555320|\n",
      "|student7|           65|           80|            165.10|36.287360|\n",
      "|student7|           65|           80|            165.10|36.287360|\n",
      "+--------+-------------+-------------+------------------+---------+\n",
      "\n"
     ]
    }
   ],
   "source": [
    "df = df.withColumn(\"weight_kg\", expr(\"weight_pounds * 0.453592\"))\n",
    "df.show()"
   ]
  },
  {
   "cell_type": "code",
   "execution_count": 37,
   "id": "15effb90-0e9e-4bd1-979f-2f74f3413070",
   "metadata": {},
   "outputs": [
    {
     "name": "stdout",
     "output_type": "stream",
     "text": [
      "+--------+------------------+---------+\n",
      "| student|height_centimeters|weight_kg|\n",
      "+--------+------------------+---------+\n",
      "|student1|            162.56|40.823280|\n",
      "|student2|            149.86|45.359200|\n",
      "|student3|            175.26|43.091240|\n",
      "|    NULL|            177.80|49.895120|\n",
      "|student5|            152.40|36.287360|\n",
      "|student3|            175.26|43.091240|\n",
      "|student6|            157.48|38.555320|\n",
      "|student7|            165.10|36.287360|\n",
      "|student7|            165.10|36.287360|\n",
      "+--------+------------------+---------+\n",
      "\n"
     ]
    }
   ],
   "source": [
    "df = df.drop(\"height_inches\",\"weight_pounds\")\n",
    "df.show()"
   ]
  },
  {
   "cell_type": "code",
   "execution_count": 38,
   "id": "05915b3b-52d9-4c5c-86d9-64134d9d4dd0",
   "metadata": {},
   "outputs": [
    {
     "name": "stdout",
     "output_type": "stream",
     "text": [
      "+--------+---------+---------+\n",
      "| student|height_cm|weight_kg|\n",
      "+--------+---------+---------+\n",
      "|student1|   162.56|40.823280|\n",
      "|student2|   149.86|45.359200|\n",
      "|student3|   175.26|43.091240|\n",
      "|    NULL|   177.80|49.895120|\n",
      "|student5|   152.40|36.287360|\n",
      "|student3|   175.26|43.091240|\n",
      "|student6|   157.48|38.555320|\n",
      "|student7|   165.10|36.287360|\n",
      "|student7|   165.10|36.287360|\n",
      "+--------+---------+---------+\n",
      "\n"
     ]
    }
   ],
   "source": [
    "df = df.withColumnRenamed(\"height_centimeters\",\"height_cm\")\n",
    "df.show()"
   ]
  },
  {
   "cell_type": "code",
   "execution_count": 39,
   "id": "8308f6f0-f712-494d-a5cf-3c616e847652",
   "metadata": {},
   "outputs": [],
   "source": [
    "spark.stop()"
   ]
  }
 ],
 "metadata": {
  "kernelspec": {
   "display_name": "Python 3 (ipykernel)",
   "language": "python",
   "name": "python3"
  },
  "language_info": {
   "codemirror_mode": {
    "name": "ipython",
    "version": 3
   },
   "file_extension": ".py",
   "mimetype": "text/x-python",
   "name": "python",
   "nbconvert_exporter": "python",
   "pygments_lexer": "ipython3",
   "version": "3.10.1"
  }
 },
 "nbformat": 4,
 "nbformat_minor": 5
}
