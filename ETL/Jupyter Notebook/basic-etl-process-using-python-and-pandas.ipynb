{
 "cells": [
  {
   "cell_type": "code",
   "execution_count": 1,
   "id": "1a6c2372",
   "metadata": {
    "_cell_guid": "b1076dfc-b9ad-4769-8c92-a6c4dae69d19",
    "_uuid": "8f2839f25d086af736a60e9eeb907d3b93b6e0e5",
    "execution": {
     "iopub.execute_input": "2022-09-28T21:44:38.289519Z",
     "iopub.status.busy": "2022-09-28T21:44:38.289038Z",
     "iopub.status.idle": "2022-09-28T21:44:38.301205Z",
     "shell.execute_reply": "2022-09-28T21:44:38.300143Z"
    },
    "papermill": {
     "duration": 0.025185,
     "end_time": "2022-09-28T21:44:38.303905",
     "exception": false,
     "start_time": "2022-09-28T21:44:38.278720",
     "status": "completed"
    },
    "tags": []
   },
   "outputs": [],
   "source": [
    "import glob\n",
    "import pandas as pd\n",
    "from datetime import datetime\n",
    "\n",
    "import os\n",
    "for dirname, _, filenames in os.walk('/kaggle/input'):\n",
    "    for filename in filenames:\n",
    "        print(os.path.join(dirname, filename))"
   ]
  },
  {
   "cell_type": "code",
   "execution_count": 2,
   "id": "cb799ca3",
   "metadata": {
    "execution": {
     "iopub.execute_input": "2022-09-28T21:44:38.319692Z",
     "iopub.status.busy": "2022-09-28T21:44:38.319314Z",
     "iopub.status.idle": "2022-09-28T21:44:42.850807Z",
     "shell.execute_reply": "2022-09-28T21:44:42.849651Z"
    },
    "papermill": {
     "duration": 4.542733,
     "end_time": "2022-09-28T21:44:42.853949",
     "exception": false,
     "start_time": "2022-09-28T21:44:38.311216",
     "status": "completed"
    },
    "tags": []
   },
   "outputs": [
    {
     "name": "stderr",
     "output_type": "stream",
     "text": [
      "--2023-08-19 14:42:07--  https://cf-courses-data.s3.us.cloud-object-storage.appdomain.cloud/IBMDeveloperSkillsNetwork-PY0221EN-SkillsNetwork/labs/module%206/Lab%20-%20Extract%20Transform%20Load/data/bank_market_cap_1.json\n",
      "Resolving cf-courses-data.s3.us.cloud-object-storage.appdomain.cloud (cf-courses-data.s3.us.cloud-object-storage.appdomain.cloud)... 169.63.118.104\n",
      "Connecting to cf-courses-data.s3.us.cloud-object-storage.appdomain.cloud (cf-courses-data.s3.us.cloud-object-storage.appdomain.cloud)|169.63.118.104|:443... connected.\n",
      "HTTP request sent, awaiting response... 200 OK\n",
      "Length: 2815 (2.7K) [application/json]\n",
      "Saving to: 'bank_market_cap_1.json'\n",
      "\n",
      "     0K ..                                                    100%  323M=0s\n",
      "\n",
      "2023-08-19 14:42:09 (323 MB/s) - 'bank_market_cap_1.json' saved [2815/2815]\n",
      "\n",
      "--2023-08-19 14:42:09--  https://cf-courses-data.s3.us.cloud-object-storage.appdomain.cloud/IBMDeveloperSkillsNetwork-PY0221EN-SkillsNetwork/labs/module%206/Lab%20-%20Extract%20Transform%20Load/data/bank_market_cap_2.json\n",
      "Resolving cf-courses-data.s3.us.cloud-object-storage.appdomain.cloud (cf-courses-data.s3.us.cloud-object-storage.appdomain.cloud)... 169.63.118.104\n",
      "Connecting to cf-courses-data.s3.us.cloud-object-storage.appdomain.cloud (cf-courses-data.s3.us.cloud-object-storage.appdomain.cloud)|169.63.118.104|:443... connected.\n",
      "HTTP request sent, awaiting response... 200 OK\n",
      "Length: 1429 (1.4K) [application/json]\n",
      "Saving to: 'bank_market_cap_2.json'\n",
      "\n",
      "     0K .                                                     100%  136M=0s\n",
      "\n",
      "2023-08-19 14:42:11 (136 MB/s) - 'bank_market_cap_2.json' saved [1429/1429]\n",
      "\n",
      "--2023-08-19 14:42:11--  https://cf-courses-data.s3.us.cloud-object-storage.appdomain.cloud/IBMDeveloperSkillsNetwork-PY0221EN-SkillsNetwork/labs/module%206/Final%20Assignment/exchange_rates.csv\n",
      "Resolving cf-courses-data.s3.us.cloud-object-storage.appdomain.cloud (cf-courses-data.s3.us.cloud-object-storage.appdomain.cloud)... 169.63.118.104\n",
      "Connecting to cf-courses-data.s3.us.cloud-object-storage.appdomain.cloud (cf-courses-data.s3.us.cloud-object-storage.appdomain.cloud)|169.63.118.104|:443... connected.\n",
      "HTTP request sent, awaiting response... 200 OK\n",
      "Length: 590 [text/csv]\n",
      "Saving to: 'exchange_rates.csv'\n",
      "\n",
      "     0K                                                       100% 57.4M=0s\n",
      "\n",
      "2023-08-19 14:42:13 (57.4 MB/s) - 'exchange_rates.csv' saved [590/590]\n",
      "\n"
     ]
    }
   ],
   "source": [
    "!wget https://cf-courses-data.s3.us.cloud-object-storage.appdomain.cloud/IBMDeveloperSkillsNetwork-PY0221EN-SkillsNetwork/labs/module%206/Lab%20-%20Extract%20Transform%20Load/data/bank_market_cap_1.json\n",
    "!wget https://cf-courses-data.s3.us.cloud-object-storage.appdomain.cloud/IBMDeveloperSkillsNetwork-PY0221EN-SkillsNetwork/labs/module%206/Lab%20-%20Extract%20Transform%20Load/data/bank_market_cap_2.json\n",
    "!wget https://cf-courses-data.s3.us.cloud-object-storage.appdomain.cloud/IBMDeveloperSkillsNetwork-PY0221EN-SkillsNetwork/labs/module%206/Final%20Assignment/exchange_rates.csv"
   ]
  },
  {
   "cell_type": "code",
   "execution_count": 3,
   "id": "d9f24489",
   "metadata": {
    "execution": {
     "iopub.execute_input": "2022-09-28T21:44:42.872866Z",
     "iopub.status.busy": "2022-09-28T21:44:42.872367Z",
     "iopub.status.idle": "2022-09-28T21:44:42.878791Z",
     "shell.execute_reply": "2022-09-28T21:44:42.877548Z"
    },
    "papermill": {
     "duration": 0.019144,
     "end_time": "2022-09-28T21:44:42.881231",
     "exception": false,
     "start_time": "2022-09-28T21:44:42.862087",
     "status": "completed"
    },
    "tags": []
   },
   "outputs": [],
   "source": [
    "# Define a function to read json and store it in a dataframe\n",
    "def extract_from_json(file_to_process):\n",
    "    dataframe = pd.read_json(file_to_process)\n",
    "    return dataframe"
   ]
  },
  {
   "cell_type": "code",
   "execution_count": 4,
   "id": "6096a0b7",
   "metadata": {
    "execution": {
     "iopub.execute_input": "2022-09-28T21:44:42.899041Z",
     "iopub.status.busy": "2022-09-28T21:44:42.898567Z",
     "iopub.status.idle": "2022-09-28T21:44:42.947218Z",
     "shell.execute_reply": "2022-09-28T21:44:42.946270Z"
    },
    "papermill": {
     "duration": 0.060075,
     "end_time": "2022-09-28T21:44:42.949423",
     "exception": false,
     "start_time": "2022-09-28T21:44:42.889348",
     "status": "completed"
    },
    "tags": []
   },
   "outputs": [
    {
     "data": {
      "text/html": [
       "<div>\n",
       "<style scoped>\n",
       "    .dataframe tbody tr th:only-of-type {\n",
       "        vertical-align: middle;\n",
       "    }\n",
       "\n",
       "    .dataframe tbody tr th {\n",
       "        vertical-align: top;\n",
       "    }\n",
       "\n",
       "    .dataframe thead th {\n",
       "        text-align: right;\n",
       "    }\n",
       "</style>\n",
       "<table border=\"1\" class=\"dataframe\">\n",
       "  <thead>\n",
       "    <tr style=\"text-align: right;\">\n",
       "      <th></th>\n",
       "      <th>Name</th>\n",
       "      <th>Market Cap (US$ Billion)</th>\n",
       "    </tr>\n",
       "  </thead>\n",
       "  <tbody>\n",
       "    <tr>\n",
       "      <th>0</th>\n",
       "      <td>JPMorgan Chase</td>\n",
       "      <td>390.934</td>\n",
       "    </tr>\n",
       "    <tr>\n",
       "      <th>1</th>\n",
       "      <td>Industrial and Commercial Bank of China</td>\n",
       "      <td>345.214</td>\n",
       "    </tr>\n",
       "    <tr>\n",
       "      <th>2</th>\n",
       "      <td>Bank of America</td>\n",
       "      <td>325.331</td>\n",
       "    </tr>\n",
       "  </tbody>\n",
       "</table>\n",
       "</div>"
      ],
      "text/plain": [
       "                                      Name  Market Cap (US$ Billion)\n",
       "0                           JPMorgan Chase                   390.934\n",
       "1  Industrial and Commercial Bank of China                   345.214\n",
       "2                          Bank of America                   325.331"
      ]
     },
     "execution_count": 4,
     "metadata": {},
     "output_type": "execute_result"
    }
   ],
   "source": [
    "# Preview the bank market cap 1 file\n",
    "\n",
    "jsonfile1 = pd.read_json(\"bank_market_cap_1.json\")\n",
    "jsonfile1.head(3)"
   ]
  },
  {
   "cell_type": "code",
   "execution_count": 5,
   "id": "70a20784",
   "metadata": {
    "execution": {
     "iopub.execute_input": "2022-09-28T21:44:42.966897Z",
     "iopub.status.busy": "2022-09-28T21:44:42.966463Z",
     "iopub.status.idle": "2022-09-28T21:44:42.973716Z",
     "shell.execute_reply": "2022-09-28T21:44:42.972449Z"
    },
    "papermill": {
     "duration": 0.019221,
     "end_time": "2022-09-28T21:44:42.976510",
     "exception": false,
     "start_time": "2022-09-28T21:44:42.957289",
     "status": "completed"
    },
    "tags": []
   },
   "outputs": [
    {
     "data": {
      "text/plain": [
       "(70, 2)"
      ]
     },
     "execution_count": 5,
     "metadata": {},
     "output_type": "execute_result"
    }
   ],
   "source": [
    "# Get shape of jsonfile1\n",
    "jsonfile1.shape"
   ]
  },
  {
   "cell_type": "code",
   "execution_count": 6,
   "id": "5d78df63",
   "metadata": {
    "execution": {
     "iopub.execute_input": "2022-09-28T21:44:42.994707Z",
     "iopub.status.busy": "2022-09-28T21:44:42.993942Z",
     "iopub.status.idle": "2022-09-28T21:44:43.011476Z",
     "shell.execute_reply": "2022-09-28T21:44:43.010013Z"
    },
    "papermill": {
     "duration": 0.0301,
     "end_time": "2022-09-28T21:44:43.014522",
     "exception": false,
     "start_time": "2022-09-28T21:44:42.984422",
     "status": "completed"
    },
    "tags": []
   },
   "outputs": [
    {
     "data": {
      "text/html": [
       "<div>\n",
       "<style scoped>\n",
       "    .dataframe tbody tr th:only-of-type {\n",
       "        vertical-align: middle;\n",
       "    }\n",
       "\n",
       "    .dataframe tbody tr th {\n",
       "        vertical-align: top;\n",
       "    }\n",
       "\n",
       "    .dataframe thead th {\n",
       "        text-align: right;\n",
       "    }\n",
       "</style>\n",
       "<table border=\"1\" class=\"dataframe\">\n",
       "  <thead>\n",
       "    <tr style=\"text-align: right;\">\n",
       "      <th></th>\n",
       "      <th>Name</th>\n",
       "      <th>Market Cap (US$ Billion)</th>\n",
       "    </tr>\n",
       "  </thead>\n",
       "  <tbody>\n",
       "    <tr>\n",
       "      <th>35</th>\n",
       "      <td>Banco Bilbao Vizcaya Argentaria</td>\n",
       "      <td>60.678</td>\n",
       "    </tr>\n",
       "    <tr>\n",
       "      <th>36</th>\n",
       "      <td>Japan Post Bank</td>\n",
       "      <td>60.525</td>\n",
       "    </tr>\n",
       "    <tr>\n",
       "      <th>37</th>\n",
       "      <td>The Bank of New York Mellon</td>\n",
       "      <td>59.823</td>\n",
       "    </tr>\n",
       "  </tbody>\n",
       "</table>\n",
       "</div>"
      ],
      "text/plain": [
       "                               Name  Market Cap (US$ Billion)\n",
       "35  Banco Bilbao Vizcaya Argentaria                    60.678\n",
       "36                  Japan Post Bank                    60.525\n",
       "37      The Bank of New York Mellon                    59.823"
      ]
     },
     "execution_count": 6,
     "metadata": {},
     "output_type": "execute_result"
    }
   ],
   "source": [
    "# Preview the bank market cap 2 file\n",
    "\n",
    "jsonfile2 = pd.read_json(\"bank_market_cap_2.json\")\n",
    "jsonfile2.head(3)"
   ]
  },
  {
   "cell_type": "code",
   "execution_count": 7,
   "id": "d2145873",
   "metadata": {
    "execution": {
     "iopub.execute_input": "2022-09-28T21:44:43.033751Z",
     "iopub.status.busy": "2022-09-28T21:44:43.033345Z",
     "iopub.status.idle": "2022-09-28T21:44:43.040187Z",
     "shell.execute_reply": "2022-09-28T21:44:43.038833Z"
    },
    "papermill": {
     "duration": 0.019465,
     "end_time": "2022-09-28T21:44:43.042714",
     "exception": false,
     "start_time": "2022-09-28T21:44:43.023249",
     "status": "completed"
    },
    "tags": []
   },
   "outputs": [
    {
     "data": {
      "text/plain": [
       "(35, 2)"
      ]
     },
     "execution_count": 7,
     "metadata": {},
     "output_type": "execute_result"
    }
   ],
   "source": [
    "# Get shape of jsonfile1\n",
    "jsonfile2.shape"
   ]
  },
  {
   "cell_type": "code",
   "execution_count": 8,
   "id": "d722cc74",
   "metadata": {
    "execution": {
     "iopub.execute_input": "2022-09-28T21:44:43.062561Z",
     "iopub.status.busy": "2022-09-28T21:44:43.061860Z",
     "iopub.status.idle": "2022-09-28T21:44:43.069157Z",
     "shell.execute_reply": "2022-09-28T21:44:43.067996Z"
    },
    "papermill": {
     "duration": 0.021153,
     "end_time": "2022-09-28T21:44:43.072029",
     "exception": false,
     "start_time": "2022-09-28T21:44:43.050876",
     "status": "completed"
    },
    "tags": []
   },
   "outputs": [],
   "source": [
    "# Column names for the dataframe\n",
    "columns = [\"Name\", \"Market Cap (US$ Billion)\"]\n",
    "\n",
    "def extract():\n",
    "    \"\"\"Find json files, extract the files, and store data in pandas dataframe\"\"\"\n",
    "    # Write your code here\n",
    "    extracted_data = pd.DataFrame(columns = columns)\n",
    "\n",
    "    for jsonfile in glob.glob(\"*.json\"):\n",
    "        extracted_data = extracted_data.append(extract_from_json(jsonfile), ignore_index = True)\n",
    "    \n",
    "    return extracted_data"
   ]
  },
  {
   "cell_type": "code",
   "execution_count": 9,
   "id": "f8a2f6c5",
   "metadata": {
    "execution": {
     "iopub.execute_input": "2022-09-28T21:44:43.091862Z",
     "iopub.status.busy": "2022-09-28T21:44:43.091444Z",
     "iopub.status.idle": "2022-09-28T21:44:43.122847Z",
     "shell.execute_reply": "2022-09-28T21:44:43.121821Z"
    },
    "papermill": {
     "duration": 0.044537,
     "end_time": "2022-09-28T21:44:43.125356",
     "exception": false,
     "start_time": "2022-09-28T21:44:43.080819",
     "status": "completed"
    },
    "tags": []
   },
   "outputs": [
    {
     "ename": "AttributeError",
     "evalue": "'DataFrame' object has no attribute 'append'",
     "output_type": "error",
     "traceback": [
      "\u001b[1;31m---------------------------------------------------------------------------\u001b[0m",
      "\u001b[1;31mAttributeError\u001b[0m                            Traceback (most recent call last)",
      "\u001b[1;32mC:\\Users\\WIZTEC~1\\AppData\\Local\\Temp/ipykernel_18144/3461365650.py\u001b[0m in \u001b[0;36m<module>\u001b[1;34m\u001b[0m\n\u001b[0;32m      1\u001b[0m \u001b[1;31m# Preview extracted_data\u001b[0m\u001b[1;33m\u001b[0m\u001b[1;33m\u001b[0m\u001b[0m\n\u001b[0;32m      2\u001b[0m \u001b[1;33m\u001b[0m\u001b[0m\n\u001b[1;32m----> 3\u001b[1;33m \u001b[0mpreview_extracted_json\u001b[0m \u001b[1;33m=\u001b[0m \u001b[0mextract\u001b[0m\u001b[1;33m(\u001b[0m\u001b[1;33m)\u001b[0m\u001b[1;33m\u001b[0m\u001b[1;33m\u001b[0m\u001b[0m\n\u001b[0m\u001b[0;32m      4\u001b[0m \u001b[0mpreview_extracted_json\u001b[0m\u001b[1;33m\u001b[0m\u001b[1;33m\u001b[0m\u001b[0m\n",
      "\u001b[1;32mC:\\Users\\WIZTEC~1\\AppData\\Local\\Temp/ipykernel_18144/1636614518.py\u001b[0m in \u001b[0;36mextract\u001b[1;34m()\u001b[0m\n\u001b[0;32m      8\u001b[0m \u001b[1;33m\u001b[0m\u001b[0m\n\u001b[0;32m      9\u001b[0m     \u001b[1;32mfor\u001b[0m \u001b[0mjsonfile\u001b[0m \u001b[1;32min\u001b[0m \u001b[0mglob\u001b[0m\u001b[1;33m.\u001b[0m\u001b[0mglob\u001b[0m\u001b[1;33m(\u001b[0m\u001b[1;34m\"*.json\"\u001b[0m\u001b[1;33m)\u001b[0m\u001b[1;33m:\u001b[0m\u001b[1;33m\u001b[0m\u001b[1;33m\u001b[0m\u001b[0m\n\u001b[1;32m---> 10\u001b[1;33m         \u001b[0mextracted_data\u001b[0m \u001b[1;33m=\u001b[0m \u001b[0mextracted_data\u001b[0m\u001b[1;33m.\u001b[0m\u001b[0mappend\u001b[0m\u001b[1;33m(\u001b[0m\u001b[0mextract_from_json\u001b[0m\u001b[1;33m(\u001b[0m\u001b[0mjsonfile\u001b[0m\u001b[1;33m)\u001b[0m\u001b[1;33m,\u001b[0m \u001b[0mignore_index\u001b[0m \u001b[1;33m=\u001b[0m \u001b[1;32mTrue\u001b[0m\u001b[1;33m)\u001b[0m\u001b[1;33m\u001b[0m\u001b[1;33m\u001b[0m\u001b[0m\n\u001b[0m\u001b[0;32m     11\u001b[0m \u001b[1;33m\u001b[0m\u001b[0m\n\u001b[0;32m     12\u001b[0m     \u001b[1;32mreturn\u001b[0m \u001b[0mextracted_data\u001b[0m\u001b[1;33m\u001b[0m\u001b[1;33m\u001b[0m\u001b[0m\n",
      "\u001b[1;32mc:\\Users\\WIZ TECH\\AppData\\Local\\Programs\\Python\\Python310\\lib\\site-packages\\pandas\\core\\generic.py\u001b[0m in \u001b[0;36m__getattr__\u001b[1;34m(self, name)\u001b[0m\n\u001b[0;32m   5987\u001b[0m         ):\n\u001b[0;32m   5988\u001b[0m             \u001b[1;32mreturn\u001b[0m \u001b[0mself\u001b[0m\u001b[1;33m[\u001b[0m\u001b[0mname\u001b[0m\u001b[1;33m]\u001b[0m\u001b[1;33m\u001b[0m\u001b[1;33m\u001b[0m\u001b[0m\n\u001b[1;32m-> 5989\u001b[1;33m         \u001b[1;32mreturn\u001b[0m \u001b[0mobject\u001b[0m\u001b[1;33m.\u001b[0m\u001b[0m__getattribute__\u001b[0m\u001b[1;33m(\u001b[0m\u001b[0mself\u001b[0m\u001b[1;33m,\u001b[0m \u001b[0mname\u001b[0m\u001b[1;33m)\u001b[0m\u001b[1;33m\u001b[0m\u001b[1;33m\u001b[0m\u001b[0m\n\u001b[0m\u001b[0;32m   5990\u001b[0m \u001b[1;33m\u001b[0m\u001b[0m\n\u001b[0;32m   5991\u001b[0m     \u001b[1;32mdef\u001b[0m \u001b[0m__setattr__\u001b[0m\u001b[1;33m(\u001b[0m\u001b[0mself\u001b[0m\u001b[1;33m,\u001b[0m \u001b[0mname\u001b[0m\u001b[1;33m:\u001b[0m \u001b[0mstr\u001b[0m\u001b[1;33m,\u001b[0m \u001b[0mvalue\u001b[0m\u001b[1;33m)\u001b[0m \u001b[1;33m->\u001b[0m \u001b[1;32mNone\u001b[0m\u001b[1;33m:\u001b[0m\u001b[1;33m\u001b[0m\u001b[1;33m\u001b[0m\u001b[0m\n",
      "\u001b[1;31mAttributeError\u001b[0m: 'DataFrame' object has no attribute 'append'"
     ]
    }
   ],
   "source": [
    "# Preview extracted_data\n",
    "\n",
    "preview_extracted_json = extract()\n",
    "preview_extracted_json"
   ]
  },
  {
   "cell_type": "code",
   "execution_count": null,
   "id": "a6a28f03",
   "metadata": {
    "execution": {
     "iopub.execute_input": "2022-09-28T21:44:43.145088Z",
     "iopub.status.busy": "2022-09-28T21:44:43.143995Z",
     "iopub.status.idle": "2022-09-28T21:44:43.598413Z",
     "shell.execute_reply": "2022-09-28T21:44:43.597227Z"
    },
    "papermill": {
     "duration": 0.467103,
     "end_time": "2022-09-28T21:44:43.601247",
     "exception": false,
     "start_time": "2022-09-28T21:44:43.134144",
     "status": "completed"
    },
    "tags": []
   },
   "outputs": [
    {
     "data": {
      "text/html": [
       "<div>\n",
       "<style scoped>\n",
       "    .dataframe tbody tr th:only-of-type {\n",
       "        vertical-align: middle;\n",
       "    }\n",
       "\n",
       "    .dataframe tbody tr th {\n",
       "        vertical-align: top;\n",
       "    }\n",
       "\n",
       "    .dataframe thead th {\n",
       "        text-align: right;\n",
       "    }\n",
       "</style>\n",
       "<table border=\"1\" class=\"dataframe\">\n",
       "  <thead>\n",
       "    <tr style=\"text-align: right;\">\n",
       "      <th></th>\n",
       "      <th>Rates</th>\n",
       "    </tr>\n",
       "  </thead>\n",
       "  <tbody>\n",
       "    <tr>\n",
       "      <th>AUD</th>\n",
       "      <td>1.297088</td>\n",
       "    </tr>\n",
       "    <tr>\n",
       "      <th>BGN</th>\n",
       "      <td>1.608653</td>\n",
       "    </tr>\n",
       "    <tr>\n",
       "      <th>BRL</th>\n",
       "      <td>5.409196</td>\n",
       "    </tr>\n",
       "    <tr>\n",
       "      <th>CAD</th>\n",
       "      <td>1.271426</td>\n",
       "    </tr>\n",
       "    <tr>\n",
       "      <th>CHF</th>\n",
       "      <td>0.886083</td>\n",
       "    </tr>\n",
       "    <tr>\n",
       "      <th>CNY</th>\n",
       "      <td>6.483139</td>\n",
       "    </tr>\n",
       "    <tr>\n",
       "      <th>CZK</th>\n",
       "      <td>21.510117</td>\n",
       "    </tr>\n",
       "    <tr>\n",
       "      <th>DKK</th>\n",
       "      <td>6.119757</td>\n",
       "    </tr>\n",
       "    <tr>\n",
       "      <th>EUR</th>\n",
       "      <td>0.822504</td>\n",
       "    </tr>\n",
       "    <tr>\n",
       "      <th>GBP</th>\n",
       "      <td>0.732398</td>\n",
       "    </tr>\n",
       "  </tbody>\n",
       "</table>\n",
       "</div>"
      ],
      "text/plain": [
       "         Rates\n",
       "AUD   1.297088\n",
       "BGN   1.608653\n",
       "BRL   5.409196\n",
       "CAD   1.271426\n",
       "CHF   0.886083\n",
       "CNY   6.483139\n",
       "CZK  21.510117\n",
       "DKK   6.119757\n",
       "EUR   0.822504\n",
       "GBP   0.732398"
      ]
     },
     "execution_count": 10,
     "metadata": {},
     "output_type": "execute_result"
    }
   ],
   "source": [
    "# Test and preview csv file\n",
    "\n",
    "url = \"https://cf-courses-data.s3.us.cloud-object-storage.appdomain.cloud/IBMDeveloperSkillsNetwork-PY0221EN-SkillsNetwork/labs/module%206/Final%20Assignment/exchange_rates.csv\"\n",
    "\n",
    "dataframe = pd.read_csv(url, index_col = 0)\n",
    "dataframe.head(10)"
   ]
  },
  {
   "cell_type": "code",
   "execution_count": null,
   "id": "e8ceb5f0",
   "metadata": {
    "execution": {
     "iopub.execute_input": "2022-09-28T21:44:43.620500Z",
     "iopub.status.busy": "2022-09-28T21:44:43.620106Z",
     "iopub.status.idle": "2022-09-28T21:44:43.626680Z",
     "shell.execute_reply": "2022-09-28T21:44:43.625446Z"
    },
    "papermill": {
     "duration": 0.018978,
     "end_time": "2022-09-28T21:44:43.629040",
     "exception": false,
     "start_time": "2022-09-28T21:44:43.610062",
     "status": "completed"
    },
    "tags": []
   },
   "outputs": [],
   "source": [
    "def read_csv(file_to_process):\n",
    "    \"\"\"Method to read csv file\"\"\"\n",
    "    dataframe = pd.read_csv(file_to_process, index_col = 0)\n",
    "    return dataframe\n",
    "\n",
    "def extract_csv():\n",
    "    \"\"\"Method to extract csv file\"\"\"\n",
    "    for csvfile in glob.glob(\"*.csv\"):\n",
    "        extracted_csv_data = pd.DataFrame(read_csv(csvfile))\n",
    "        \n",
    "    return extracted_csv_data"
   ]
  },
  {
   "cell_type": "code",
   "execution_count": null,
   "id": "b0d6f5a8",
   "metadata": {
    "execution": {
     "iopub.execute_input": "2022-09-28T21:44:43.648573Z",
     "iopub.status.busy": "2022-09-28T21:44:43.647563Z",
     "iopub.status.idle": "2022-09-28T21:44:43.662322Z",
     "shell.execute_reply": "2022-09-28T21:44:43.661014Z"
    },
    "papermill": {
     "duration": 0.027347,
     "end_time": "2022-09-28T21:44:43.665012",
     "exception": false,
     "start_time": "2022-09-28T21:44:43.637665",
     "status": "completed"
    },
    "tags": []
   },
   "outputs": [
    {
     "data": {
      "text/html": [
       "<div>\n",
       "<style scoped>\n",
       "    .dataframe tbody tr th:only-of-type {\n",
       "        vertical-align: middle;\n",
       "    }\n",
       "\n",
       "    .dataframe tbody tr th {\n",
       "        vertical-align: top;\n",
       "    }\n",
       "\n",
       "    .dataframe thead th {\n",
       "        text-align: right;\n",
       "    }\n",
       "</style>\n",
       "<table border=\"1\" class=\"dataframe\">\n",
       "  <thead>\n",
       "    <tr style=\"text-align: right;\">\n",
       "      <th></th>\n",
       "      <th>Rates</th>\n",
       "    </tr>\n",
       "  </thead>\n",
       "  <tbody>\n",
       "    <tr>\n",
       "      <th>AUD</th>\n",
       "      <td>1.297088</td>\n",
       "    </tr>\n",
       "    <tr>\n",
       "      <th>BGN</th>\n",
       "      <td>1.608653</td>\n",
       "    </tr>\n",
       "    <tr>\n",
       "      <th>BRL</th>\n",
       "      <td>5.409196</td>\n",
       "    </tr>\n",
       "    <tr>\n",
       "      <th>CAD</th>\n",
       "      <td>1.271426</td>\n",
       "    </tr>\n",
       "    <tr>\n",
       "      <th>CHF</th>\n",
       "      <td>0.886083</td>\n",
       "    </tr>\n",
       "    <tr>\n",
       "      <th>CNY</th>\n",
       "      <td>6.483139</td>\n",
       "    </tr>\n",
       "    <tr>\n",
       "      <th>CZK</th>\n",
       "      <td>21.510117</td>\n",
       "    </tr>\n",
       "    <tr>\n",
       "      <th>DKK</th>\n",
       "      <td>6.119757</td>\n",
       "    </tr>\n",
       "    <tr>\n",
       "      <th>EUR</th>\n",
       "      <td>0.822504</td>\n",
       "    </tr>\n",
       "    <tr>\n",
       "      <th>GBP</th>\n",
       "      <td>0.732398</td>\n",
       "    </tr>\n",
       "  </tbody>\n",
       "</table>\n",
       "</div>"
      ],
      "text/plain": [
       "         Rates\n",
       "AUD   1.297088\n",
       "BGN   1.608653\n",
       "BRL   5.409196\n",
       "CAD   1.271426\n",
       "CHF   0.886083\n",
       "CNY   6.483139\n",
       "CZK  21.510117\n",
       "DKK   6.119757\n",
       "EUR   0.822504\n",
       "GBP   0.732398"
      ]
     },
     "execution_count": 12,
     "metadata": {},
     "output_type": "execute_result"
    }
   ],
   "source": [
    "# Preview dataframe from csv file\n",
    "\n",
    "preview_extracted_csv = extract_csv().head(10)\n",
    "preview_extracted_csv"
   ]
  },
  {
   "cell_type": "code",
   "execution_count": null,
   "id": "2d8aef28",
   "metadata": {
    "execution": {
     "iopub.execute_input": "2022-09-28T21:44:43.685625Z",
     "iopub.status.busy": "2022-09-28T21:44:43.684850Z",
     "iopub.status.idle": "2022-09-28T21:44:43.693098Z",
     "shell.execute_reply": "2022-09-28T21:44:43.691846Z"
    },
    "papermill": {
     "duration": 0.021314,
     "end_time": "2022-09-28T21:44:43.695713",
     "exception": false,
     "start_time": "2022-09-28T21:44:43.674399",
     "status": "completed"
    },
    "tags": []
   },
   "outputs": [
    {
     "data": {
      "text/plain": [
       "0.7323984208000001"
      ]
     },
     "execution_count": 13,
     "metadata": {},
     "output_type": "execute_result"
    }
   ],
   "source": [
    "# Get GBP rate and convert to float\n",
    "\n",
    "exchange_rate = float(preview_extracted_csv.loc[\"GBP\"])\n",
    "exchange_rate"
   ]
  },
  {
   "cell_type": "code",
   "execution_count": null,
   "id": "d17b9b89",
   "metadata": {
    "execution": {
     "iopub.execute_input": "2022-09-28T21:44:43.716483Z",
     "iopub.status.busy": "2022-09-28T21:44:43.715638Z",
     "iopub.status.idle": "2022-09-28T21:44:43.722416Z",
     "shell.execute_reply": "2022-09-28T21:44:43.721438Z"
    },
    "papermill": {
     "duration": 0.019866,
     "end_time": "2022-09-28T21:44:43.725029",
     "exception": false,
     "start_time": "2022-09-28T21:44:43.705163",
     "status": "completed"
    },
    "tags": []
   },
   "outputs": [],
   "source": [
    "def transform(data):\n",
    "    \"\"\"Convert Market Cap from USD to GBP\"\"\"\n",
    "    \n",
    "    # Convert USD to GBP and round to 3 decimal places\n",
    "    data[\"Market Cap (US$ Billion)\"] = round(data[\"Market Cap (US$ Billion)\"] * exchange_rate, 3)\n",
    "    # Other solution - creating a new column and drop the existing column\n",
    "    # data[\"Market Cap (GBP$ Billion)\"] = round(data[\"Market Cap (US$ Billion)\"] * exchange_rate, 3)\n",
    "    # data = data.drop(\"Market Cap (US$ Billion)\", axis = 1, inplace = True)\n",
    "    \n",
    "    # Rename Columns\n",
    "    data.rename(columns = {\"Name\": \"Name\", \"Market Cap (US$ Billion)\": \"Market Cap (GBP$ Billion)\"}, inplace = True, errors = \"raised\")\n",
    "    \n",
    "    return data"
   ]
  },
  {
   "cell_type": "code",
   "execution_count": null,
   "id": "7aab5bd6",
   "metadata": {
    "execution": {
     "iopub.execute_input": "2022-09-28T21:44:43.745296Z",
     "iopub.status.busy": "2022-09-28T21:44:43.744495Z",
     "iopub.status.idle": "2022-09-28T21:44:43.758100Z",
     "shell.execute_reply": "2022-09-28T21:44:43.756780Z"
    },
    "papermill": {
     "duration": 0.026727,
     "end_time": "2022-09-28T21:44:43.760852",
     "exception": false,
     "start_time": "2022-09-28T21:44:43.734125",
     "status": "completed"
    },
    "tags": []
   },
   "outputs": [
    {
     "data": {
      "text/html": [
       "<div>\n",
       "<style scoped>\n",
       "    .dataframe tbody tr th:only-of-type {\n",
       "        vertical-align: middle;\n",
       "    }\n",
       "\n",
       "    .dataframe tbody tr th {\n",
       "        vertical-align: top;\n",
       "    }\n",
       "\n",
       "    .dataframe thead th {\n",
       "        text-align: right;\n",
       "    }\n",
       "</style>\n",
       "<table border=\"1\" class=\"dataframe\">\n",
       "  <thead>\n",
       "    <tr style=\"text-align: right;\">\n",
       "      <th></th>\n",
       "      <th>Name</th>\n",
       "      <th>Market Cap (GBP$ Billion)</th>\n",
       "    </tr>\n",
       "  </thead>\n",
       "  <tbody>\n",
       "    <tr>\n",
       "      <th>0</th>\n",
       "      <td>JPMorgan Chase</td>\n",
       "      <td>286.319</td>\n",
       "    </tr>\n",
       "    <tr>\n",
       "      <th>1</th>\n",
       "      <td>Industrial and Commercial Bank of China</td>\n",
       "      <td>252.834</td>\n",
       "    </tr>\n",
       "    <tr>\n",
       "      <th>2</th>\n",
       "      <td>Bank of America</td>\n",
       "      <td>238.272</td>\n",
       "    </tr>\n",
       "    <tr>\n",
       "      <th>3</th>\n",
       "      <td>Wells Fargo</td>\n",
       "      <td>225.588</td>\n",
       "    </tr>\n",
       "    <tr>\n",
       "      <th>4</th>\n",
       "      <td>China Construction Bank</td>\n",
       "      <td>188.519</td>\n",
       "    </tr>\n",
       "  </tbody>\n",
       "</table>\n",
       "</div>"
      ],
      "text/plain": [
       "                                      Name  Market Cap (GBP$ Billion)\n",
       "0                           JPMorgan Chase                    286.319\n",
       "1  Industrial and Commercial Bank of China                    252.834\n",
       "2                          Bank of America                    238.272\n",
       "3                              Wells Fargo                    225.588\n",
       "4                  China Construction Bank                    188.519"
      ]
     },
     "execution_count": 15,
     "metadata": {},
     "output_type": "execute_result"
    }
   ],
   "source": [
    "# Preview transformed data\n",
    "\n",
    "preview_transform = transform(preview_extracted_json)\n",
    "preview_transform.head(5)"
   ]
  },
  {
   "cell_type": "code",
   "execution_count": null,
   "id": "dc7dce25",
   "metadata": {
    "execution": {
     "iopub.execute_input": "2022-09-28T21:44:43.780835Z",
     "iopub.status.busy": "2022-09-28T21:44:43.780374Z",
     "iopub.status.idle": "2022-09-28T21:44:43.786209Z",
     "shell.execute_reply": "2022-09-28T21:44:43.784889Z"
    },
    "papermill": {
     "duration": 0.018455,
     "end_time": "2022-09-28T21:44:43.788535",
     "exception": false,
     "start_time": "2022-09-28T21:44:43.770080",
     "status": "completed"
    },
    "tags": []
   },
   "outputs": [],
   "source": [
    "# Assign a filename for csv\n",
    "filename = \"bank_market_cap_gbp.csv\"\n",
    "\n",
    "def load(filename, data):\n",
    "    \"\"\"Takes a dataframe and save it to csv file named, bank_market_cap_gbp.csv\"\"\"\n",
    "    data.to_csv(filename, index = False)"
   ]
  },
  {
   "cell_type": "code",
   "execution_count": null,
   "id": "8d7f02fd",
   "metadata": {
    "execution": {
     "iopub.execute_input": "2022-09-28T21:44:43.808907Z",
     "iopub.status.busy": "2022-09-28T21:44:43.808198Z",
     "iopub.status.idle": "2022-09-28T21:44:43.813607Z",
     "shell.execute_reply": "2022-09-28T21:44:43.812805Z"
    },
    "papermill": {
     "duration": 0.018409,
     "end_time": "2022-09-28T21:44:43.816062",
     "exception": false,
     "start_time": "2022-09-28T21:44:43.797653",
     "status": "completed"
    },
    "tags": []
   },
   "outputs": [],
   "source": [
    "# Assign a filename for log text\n",
    "logfilename = \"bmc_log.txt\"\n",
    "\n",
    "def log(message):\n",
    "    \"\"\"Method for logging function\"\"\"\n",
    "    \n",
    "    # Timestamp format\n",
    "    timestamp = datetime.now().strftime(\"Date: %h %d, %Y - Time: %H:%M:%S\")\n",
    "    \n",
    "    # Append log text\n",
    "    with open(logfilename, \"a\") as txtfile:\n",
    "        txtfile.write(f\"{timestamp} --> {message}.\\n\")"
   ]
  },
  {
   "cell_type": "code",
   "execution_count": null,
   "id": "1a2e8774",
   "metadata": {
    "execution": {
     "iopub.execute_input": "2022-09-28T21:44:43.836466Z",
     "iopub.status.busy": "2022-09-28T21:44:43.835512Z",
     "iopub.status.idle": "2022-09-28T21:44:43.840597Z",
     "shell.execute_reply": "2022-09-28T21:44:43.839715Z"
    },
    "papermill": {
     "duration": 0.01777,
     "end_time": "2022-09-28T21:44:43.843046",
     "exception": false,
     "start_time": "2022-09-28T21:44:43.825276",
     "status": "completed"
    },
    "tags": []
   },
   "outputs": [],
   "source": [
    "# Running the ETL Process\n",
    "\n",
    "# Log the process to text file\n",
    "log(\"ETL Job Started\")\n",
    "log(\"Extract Phase Started\")"
   ]
  },
  {
   "cell_type": "code",
   "execution_count": null,
   "id": "759633d5",
   "metadata": {
    "execution": {
     "iopub.execute_input": "2022-09-28T21:44:43.863867Z",
     "iopub.status.busy": "2022-09-28T21:44:43.863163Z",
     "iopub.status.idle": "2022-09-28T21:44:43.885238Z",
     "shell.execute_reply": "2022-09-28T21:44:43.883962Z"
    },
    "papermill": {
     "duration": 0.035279,
     "end_time": "2022-09-28T21:44:43.887895",
     "exception": false,
     "start_time": "2022-09-28T21:44:43.852616",
     "status": "completed"
    },
    "tags": []
   },
   "outputs": [
    {
     "data": {
      "text/html": [
       "<div>\n",
       "<style scoped>\n",
       "    .dataframe tbody tr th:only-of-type {\n",
       "        vertical-align: middle;\n",
       "    }\n",
       "\n",
       "    .dataframe tbody tr th {\n",
       "        vertical-align: top;\n",
       "    }\n",
       "\n",
       "    .dataframe thead th {\n",
       "        text-align: right;\n",
       "    }\n",
       "</style>\n",
       "<table border=\"1\" class=\"dataframe\">\n",
       "  <thead>\n",
       "    <tr style=\"text-align: right;\">\n",
       "      <th></th>\n",
       "      <th>Name</th>\n",
       "      <th>Market Cap (US$ Billion)</th>\n",
       "    </tr>\n",
       "  </thead>\n",
       "  <tbody>\n",
       "    <tr>\n",
       "      <th>0</th>\n",
       "      <td>JPMorgan Chase</td>\n",
       "      <td>390.934</td>\n",
       "    </tr>\n",
       "    <tr>\n",
       "      <th>1</th>\n",
       "      <td>Industrial and Commercial Bank of China</td>\n",
       "      <td>345.214</td>\n",
       "    </tr>\n",
       "    <tr>\n",
       "      <th>2</th>\n",
       "      <td>Bank of America</td>\n",
       "      <td>325.331</td>\n",
       "    </tr>\n",
       "    <tr>\n",
       "      <th>3</th>\n",
       "      <td>Wells Fargo</td>\n",
       "      <td>308.013</td>\n",
       "    </tr>\n",
       "    <tr>\n",
       "      <th>4</th>\n",
       "      <td>China Construction Bank</td>\n",
       "      <td>257.399</td>\n",
       "    </tr>\n",
       "  </tbody>\n",
       "</table>\n",
       "</div>"
      ],
      "text/plain": [
       "                                      Name  Market Cap (US$ Billion)\n",
       "0                           JPMorgan Chase                   390.934\n",
       "1  Industrial and Commercial Bank of China                   345.214\n",
       "2                          Bank of America                   325.331\n",
       "3                              Wells Fargo                   308.013\n",
       "4                  China Construction Bank                   257.399"
      ]
     },
     "execution_count": 19,
     "metadata": {},
     "output_type": "execute_result"
    }
   ],
   "source": [
    "# Call the function extract\n",
    "extractedData = extract()\n",
    "\n",
    "# Print the first five rows\n",
    "extractedData.head(5)"
   ]
  },
  {
   "cell_type": "code",
   "execution_count": null,
   "id": "59694f29",
   "metadata": {
    "execution": {
     "iopub.execute_input": "2022-09-28T21:44:43.909347Z",
     "iopub.status.busy": "2022-09-28T21:44:43.908911Z",
     "iopub.status.idle": "2022-09-28T21:44:43.913821Z",
     "shell.execute_reply": "2022-09-28T21:44:43.912772Z"
    },
    "papermill": {
     "duration": 0.018381,
     "end_time": "2022-09-28T21:44:43.916134",
     "exception": false,
     "start_time": "2022-09-28T21:44:43.897753",
     "status": "completed"
    },
    "tags": []
   },
   "outputs": [],
   "source": [
    "# Log the process to text file\n",
    "log(\"Extract Phase Ended\")"
   ]
  },
  {
   "cell_type": "code",
   "execution_count": null,
   "id": "ba4aca9e",
   "metadata": {
    "execution": {
     "iopub.execute_input": "2022-09-28T21:44:43.936716Z",
     "iopub.status.busy": "2022-09-28T21:44:43.936325Z",
     "iopub.status.idle": "2022-09-28T21:44:43.941257Z",
     "shell.execute_reply": "2022-09-28T21:44:43.940002Z"
    },
    "papermill": {
     "duration": 0.018341,
     "end_time": "2022-09-28T21:44:43.943808",
     "exception": false,
     "start_time": "2022-09-28T21:44:43.925467",
     "status": "completed"
    },
    "tags": []
   },
   "outputs": [],
   "source": [
    "# Log the process to text file\n",
    "log(\"Transform Phase Started\")"
   ]
  },
  {
   "cell_type": "code",
   "execution_count": null,
   "id": "ea546548",
   "metadata": {
    "execution": {
     "iopub.execute_input": "2022-09-28T21:44:43.965006Z",
     "iopub.status.busy": "2022-09-28T21:44:43.964569Z",
     "iopub.status.idle": "2022-09-28T21:44:43.976804Z",
     "shell.execute_reply": "2022-09-28T21:44:43.975912Z"
    },
    "papermill": {
     "duration": 0.02566,
     "end_time": "2022-09-28T21:44:43.979103",
     "exception": false,
     "start_time": "2022-09-28T21:44:43.953443",
     "status": "completed"
    },
    "tags": []
   },
   "outputs": [
    {
     "data": {
      "text/html": [
       "<div>\n",
       "<style scoped>\n",
       "    .dataframe tbody tr th:only-of-type {\n",
       "        vertical-align: middle;\n",
       "    }\n",
       "\n",
       "    .dataframe tbody tr th {\n",
       "        vertical-align: top;\n",
       "    }\n",
       "\n",
       "    .dataframe thead th {\n",
       "        text-align: right;\n",
       "    }\n",
       "</style>\n",
       "<table border=\"1\" class=\"dataframe\">\n",
       "  <thead>\n",
       "    <tr style=\"text-align: right;\">\n",
       "      <th></th>\n",
       "      <th>Name</th>\n",
       "      <th>Market Cap (GBP$ Billion)</th>\n",
       "    </tr>\n",
       "  </thead>\n",
       "  <tbody>\n",
       "    <tr>\n",
       "      <th>0</th>\n",
       "      <td>JPMorgan Chase</td>\n",
       "      <td>286.319</td>\n",
       "    </tr>\n",
       "    <tr>\n",
       "      <th>1</th>\n",
       "      <td>Industrial and Commercial Bank of China</td>\n",
       "      <td>252.834</td>\n",
       "    </tr>\n",
       "    <tr>\n",
       "      <th>2</th>\n",
       "      <td>Bank of America</td>\n",
       "      <td>238.272</td>\n",
       "    </tr>\n",
       "    <tr>\n",
       "      <th>3</th>\n",
       "      <td>Wells Fargo</td>\n",
       "      <td>225.588</td>\n",
       "    </tr>\n",
       "    <tr>\n",
       "      <th>4</th>\n",
       "      <td>China Construction Bank</td>\n",
       "      <td>188.519</td>\n",
       "    </tr>\n",
       "  </tbody>\n",
       "</table>\n",
       "</div>"
      ],
      "text/plain": [
       "                                      Name  Market Cap (GBP$ Billion)\n",
       "0                           JPMorgan Chase                    286.319\n",
       "1  Industrial and Commercial Bank of China                    252.834\n",
       "2                          Bank of America                    238.272\n",
       "3                              Wells Fargo                    225.588\n",
       "4                  China Construction Bank                    188.519"
      ]
     },
     "execution_count": 22,
     "metadata": {},
     "output_type": "execute_result"
    }
   ],
   "source": [
    "# Call the function transform\n",
    "transformedData = transform(extractedData)\n",
    "\n",
    "# Print the first five rows\n",
    "transformedData.head(5)"
   ]
  },
  {
   "cell_type": "code",
   "execution_count": null,
   "id": "3b4d521e",
   "metadata": {
    "execution": {
     "iopub.execute_input": "2022-09-28T21:44:43.999965Z",
     "iopub.status.busy": "2022-09-28T21:44:43.999429Z",
     "iopub.status.idle": "2022-09-28T21:44:44.005290Z",
     "shell.execute_reply": "2022-09-28T21:44:44.004010Z"
    },
    "papermill": {
     "duration": 0.019438,
     "end_time": "2022-09-28T21:44:44.008088",
     "exception": false,
     "start_time": "2022-09-28T21:44:43.988650",
     "status": "completed"
    },
    "tags": []
   },
   "outputs": [],
   "source": [
    "# Log the process to text file\n",
    "log(\"Transform Phase Ended\")"
   ]
  },
  {
   "cell_type": "code",
   "execution_count": null,
   "id": "d927938d",
   "metadata": {
    "execution": {
     "iopub.execute_input": "2022-09-28T21:44:44.028641Z",
     "iopub.status.busy": "2022-09-28T21:44:44.028153Z",
     "iopub.status.idle": "2022-09-28T21:44:44.034263Z",
     "shell.execute_reply": "2022-09-28T21:44:44.032973Z"
    },
    "papermill": {
     "duration": 0.019355,
     "end_time": "2022-09-28T21:44:44.036831",
     "exception": false,
     "start_time": "2022-09-28T21:44:44.017476",
     "status": "completed"
    },
    "tags": []
   },
   "outputs": [],
   "source": [
    "# Log the process to text file\n",
    "log(\"Load Phase Started\")"
   ]
  },
  {
   "cell_type": "code",
   "execution_count": null,
   "id": "fcffd781",
   "metadata": {
    "execution": {
     "iopub.execute_input": "2022-09-28T21:44:44.057940Z",
     "iopub.status.busy": "2022-09-28T21:44:44.057514Z",
     "iopub.status.idle": "2022-09-28T21:44:44.065913Z",
     "shell.execute_reply": "2022-09-28T21:44:44.064995Z"
    },
    "papermill": {
     "duration": 0.021694,
     "end_time": "2022-09-28T21:44:44.068452",
     "exception": false,
     "start_time": "2022-09-28T21:44:44.046758",
     "status": "completed"
    },
    "tags": []
   },
   "outputs": [],
   "source": [
    "# Call the load function\n",
    "load(filename, transformedData)"
   ]
  },
  {
   "cell_type": "code",
   "execution_count": null,
   "id": "b733f2eb",
   "metadata": {
    "execution": {
     "iopub.execute_input": "2022-09-28T21:44:44.090140Z",
     "iopub.status.busy": "2022-09-28T21:44:44.089029Z",
     "iopub.status.idle": "2022-09-28T21:44:44.095570Z",
     "shell.execute_reply": "2022-09-28T21:44:44.094393Z"
    },
    "papermill": {
     "duration": 0.020015,
     "end_time": "2022-09-28T21:44:44.097893",
     "exception": false,
     "start_time": "2022-09-28T21:44:44.077878",
     "status": "completed"
    },
    "tags": []
   },
   "outputs": [],
   "source": [
    "log(\"Load Phase Ended\")"
   ]
  }
 ],
 "metadata": {
  "kernelspec": {
   "display_name": "Python 3",
   "language": "python",
   "name": "python3"
  },
  "language_info": {
   "codemirror_mode": {
    "name": "ipython",
    "version": 3
   },
   "file_extension": ".py",
   "mimetype": "text/x-python",
   "name": "python",
   "nbconvert_exporter": "python",
   "pygments_lexer": "ipython3",
   "version": "3.10.1"
  },
  "papermill": {
   "default_parameters": {},
   "duration": 16.486653,
   "end_time": "2022-09-28T21:44:44.830669",
   "environment_variables": {},
   "exception": null,
   "input_path": "__notebook__.ipynb",
   "output_path": "__notebook__.ipynb",
   "parameters": {},
   "start_time": "2022-09-28T21:44:28.344016",
   "version": "2.3.4"
  }
 },
 "nbformat": 4,
 "nbformat_minor": 5
}
