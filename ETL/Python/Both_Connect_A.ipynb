{
 "cells": [
  {
   "cell_type": "code",
   "execution_count": 1,
   "metadata": {},
   "outputs": [],
   "source": [
    "import mysql.connector\n",
    "import psycopg2"
   ]
  },
  {
   "cell_type": "code",
   "execution_count": 2,
   "metadata": {},
   "outputs": [],
   "source": [
    "## Connecting MYSQL\n",
    "\n",
    "connection = mysql.connector.connect(\n",
    "    user = 'root',\n",
    "    password = 'aW@nN2001',\n",
    "    host = '127.0.0.1',\n",
    "    database = 'salesp'\n",
    ")"
   ]
  },
  {
   "cell_type": "code",
   "execution_count": 5,
   "metadata": {},
   "outputs": [],
   "source": [
    "## Connecting Postgresql\n",
    "\n",
    "dsn_hostname = '127.0.0.1'\n",
    "dsn_user='postgres' \n",
    "dsn_pwd ='awana'  \n",
    "dsn_port =\"5432\"\n",
    "dsn_database =\"salespb\" \n",
    "\n",
    "# create connection\n",
    "\n",
    "conn = psycopg2.connect(\n",
    "   database=dsn_database, \n",
    "   user=dsn_user,\n",
    "   password=dsn_pwd,\n",
    "   host=dsn_hostname, \n",
    "   port= dsn_port\n",
    ")"
   ]
  },
  {
   "cell_type": "code",
   "execution_count": 6,
   "metadata": {},
   "outputs": [],
   "source": [
    "## MySQL cursor\n",
    "\n",
    "cursorm = connection.cursor()\n",
    "\n",
    "## Postgresql cursor\n",
    "cursorp = conn.cursor()"
   ]
  },
  {
   "cell_type": "code",
   "execution_count": 16,
   "metadata": {},
   "outputs": [],
   "source": [
    "def products():\n",
    "    SQL = \"\"\"\n",
    "        SELECT * FROM products;\n",
    "    \"\"\"\n",
    "\n",
    "    cursorp.execute(SQL)\n",
    "\n",
    "    rows = cursorp.fetchall()\n",
    "\n",
    "    for r in rows:\n",
    "        print(r)\n",
    "\n",
    "\n",
    "\n",
    "def sales_data():\n",
    "    SQL = \"\"\"\n",
    "        SELECT * FROM sales_data limit 5;\n",
    "    \"\"\"\n",
    "\n",
    "    cursorp.execute(SQL)\n",
    "\n",
    "    rows = cursorp.fetchall()\n",
    "\n",
    "    for r in rows:\n",
    "        print(r)"
   ]
  },
  {
   "cell_type": "code",
   "execution_count": 17,
   "metadata": {},
   "outputs": [
    {
     "name": "stdout",
     "output_type": "stream",
     "text": [
      "(1, 'Television', 'Electronics')\n",
      "(2, 'Laptop', 'Electronics')\n",
      "(3, 'Mobile', 'Electronics')\n",
      "(5, 'Mobile', 'Electronics')\n",
      "(6, 'Mobile', 'Electronics')\n",
      "\n",
      "(104, 8972, 58516, Decimal('4277'), 5, datetime.datetime(2017, 11, 22, 3, 53, 23))\n",
      "(105, 7905, 59794, Decimal('542'), 2, datetime.datetime(2017, 11, 22, 3, 53, 24))\n",
      "(106, 6295, 86874, Decimal('2706'), 2, datetime.datetime(2017, 11, 22, 3, 53, 25))\n",
      "(107, 6665, 56517, Decimal('4821'), 1, datetime.datetime(2017, 11, 22, 3, 53, 26))\n",
      "(108, 8851, 23457, Decimal('4612'), 3, datetime.datetime(2017, 11, 22, 3, 53, 27))\n"
     ]
    }
   ],
   "source": [
    "products()\n",
    "print()\n",
    "sales_data()"
   ]
  },
  {
   "cell_type": "code",
   "execution_count": 29,
   "metadata": {},
   "outputs": [],
   "source": [
    "## Getting the last row id from postgresql database\n",
    "\n",
    "def get_last_rowid():\n",
    "    SQL = \"\"\"\n",
    "        SELECT rowid \n",
    "        FROM sales_data \n",
    "        ORDER BY rowid DESC\n",
    "        LIMIT 1;\n",
    "    \"\"\"\n",
    "\n",
    "    cursorp.execute(SQL)\n",
    "    \n",
    "    rows = cursorp.fetchone()\n",
    "\n",
    "    return rows[0]"
   ]
  },
  {
   "cell_type": "code",
   "execution_count": 30,
   "metadata": {},
   "outputs": [
    {
     "name": "stdout",
     "output_type": "stream",
     "text": [
      "Last row id on production datawarehouse =  12289\n"
     ]
    }
   ],
   "source": [
    "last_row_id = get_last_rowid()\n",
    "print(\"Last row id on production datawarehouse = \", last_row_id)"
   ]
  },
  {
   "cell_type": "code",
   "execution_count": 31,
   "metadata": {},
   "outputs": [],
   "source": [
    "# List out all records in MySQL database with rowid greater than the one on the Data warehouse\n",
    "# The function get_latest_records must return a list of all records that have a rowid greater\n",
    "# than the last_row_id in the sales_data table in the sales database on the MySQL staging data \n",
    "# warehouse.\n",
    "\n",
    "def get_latest_records(rd):\n",
    "    SQL = f\"\"\"\n",
    "        SELECT * FROM sales_data\n",
    "        WHERE rowid > {rd};\n",
    "    \"\"\"\n",
    "\n",
    "    cursorm.execute(SQL)\n",
    "\n",
    "    rows = cursorm.fetchall()\n",
    "\n",
    "    return rows\n"
   ]
  },
  {
   "cell_type": "code",
   "execution_count": 35,
   "metadata": {},
   "outputs": [],
   "source": [
    "new_records = get_latest_records(12289)"
   ]
  },
  {
   "cell_type": "code",
   "execution_count": 36,
   "metadata": {},
   "outputs": [
    {
     "name": "stdout",
     "output_type": "stream",
     "text": [
      "New rows on staging datawarehouse =  1650\n"
     ]
    }
   ],
   "source": [
    "print(\"New rows on staging datawarehouse = \", len(new_records))"
   ]
  },
  {
   "cell_type": "code",
   "execution_count": 44,
   "metadata": {},
   "outputs": [],
   "source": [
    "def rollback():\n",
    "    cursorp.execute('rollback;')"
   ]
  },
  {
   "cell_type": "code",
   "execution_count": 47,
   "metadata": {},
   "outputs": [],
   "source": [
    "rollback()"
   ]
  },
  {
   "cell_type": "code",
   "execution_count": 50,
   "metadata": {},
   "outputs": [],
   "source": [
    "\n",
    "def insert_records(records):\n",
    "    try:\n",
    "        for r in records:\n",
    "            SQL = \"\"\"\n",
    "                INSERT INTO sales_data (rowid, product_id, customer_id, price, quantity, timestamp)\n",
    "                VALUES (%s, %s, %s, %s, %s, NOW())\n",
    "            \"\"\"\n",
    "            cursorp.execute(SQL, (r[0], r[1], r[2], 0, r[3]))\n",
    "    \n",
    "    except psycopg2.Error as e:\n",
    "        print(\"Error inserting records:\", e)\n",
    "        cursorp.connection.rollback()\n",
    "\n",
    "insert_records(new_records)\n"
   ]
  },
  {
   "cell_type": "code",
   "execution_count": 54,
   "metadata": {},
   "outputs": [],
   "source": [
    "def sales_data():\n",
    "    SQL = \"\"\"\n",
    "        SELECT * FROM sales_data;\n",
    "    \"\"\"\n",
    "\n",
    "    cursorp.execute(SQL)\n",
    "\n",
    "    rows = cursorp.fetchall()\n",
    "\n",
    "    return rows"
   ]
  },
  {
   "cell_type": "code",
   "execution_count": 55,
   "metadata": {},
   "outputs": [
    {
     "name": "stdout",
     "output_type": "stream",
     "text": [
      "New rows inserted into production datawarehouse =  13836\n"
     ]
    }
   ],
   "source": [
    "new_data = sales_data()\n",
    "print(\"New rows inserted into production datawarehouse = \", len(new_data))"
   ]
  },
  {
   "cell_type": "code",
   "execution_count": 57,
   "metadata": {},
   "outputs": [],
   "source": [
    "conn.close()    ## Disconnect from Postgresql"
   ]
  },
  {
   "cell_type": "code",
   "execution_count": 59,
   "metadata": {},
   "outputs": [
    {
     "name": "stdout",
     "output_type": "stream",
     "text": [
      "Error closing cursor: Unread result found\n"
     ]
    }
   ],
   "source": [
    "def close_cursor(cursor):\n",
    "    try:\n",
    "        cursorm.close()\n",
    "    except mysql.connector.Error as e:\n",
    "        print(\"Error closing cursor:\", e)\n",
    "\n",
    "# Example usage\n",
    "close_cursor(cursorm)\n"
   ]
  },
  {
   "cell_type": "code",
   "execution_count": 60,
   "metadata": {},
   "outputs": [],
   "source": [
    "def close_cursor(cursor):\n",
    "    try:\n",
    "        # Fetch any remaining rows to ensure all results are consumed\n",
    "        cursor.fetchall()\n",
    "    except mysql.connector.Error as e:\n",
    "        # Handle any errors while fetching remaining rows\n",
    "        print(\"Error fetching remaining rows:\", e)\n",
    "\n",
    "    try:\n",
    "        # Close the cursor\n",
    "        cursor.close()\n",
    "    except mysql.connector.Error as e:\n",
    "        # Handle any errors while closing the cursor\n",
    "        print(\"Error closing cursor:\", e)\n",
    "\n",
    "# Example usage\n",
    "close_cursor(cursorm)\n"
   ]
  }
 ],
 "metadata": {
  "kernelspec": {
   "display_name": "Python 3",
   "language": "python",
   "name": "python3"
  },
  "language_info": {
   "codemirror_mode": {
    "name": "ipython",
    "version": 3
   },
   "file_extension": ".py",
   "mimetype": "text/x-python",
   "name": "python",
   "nbconvert_exporter": "python",
   "pygments_lexer": "ipython3",
   "version": "3.10.1"
  }
 },
 "nbformat": 4,
 "nbformat_minor": 2
}
