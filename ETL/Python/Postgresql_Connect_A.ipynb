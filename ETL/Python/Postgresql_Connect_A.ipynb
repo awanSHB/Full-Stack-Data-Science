{
 "cells": [
  {
   "cell_type": "code",
   "execution_count": 1,
   "metadata": {},
   "outputs": [],
   "source": [
    "import psycopg2"
   ]
  },
  {
   "cell_type": "code",
   "execution_count": 2,
   "metadata": {},
   "outputs": [],
   "source": [
    "dsn_hostname = '127.0.0.1'\n",
    "dsn_user='postgres'        # e.g. \"abc12345\"\n",
    "dsn_pwd ='awana'      # e.g. \"7dBZ3wWt9XN6$o0J\"\n",
    "dsn_port =\"5432\"                # e.g. \"50000\" \n",
    "dsn_database =\"salespb\" "
   ]
  },
  {
   "cell_type": "code",
   "execution_count": 3,
   "metadata": {},
   "outputs": [],
   "source": [
    "# create connection\n",
    "\n",
    "conn = psycopg2.connect(\n",
    "   database=dsn_database, \n",
    "   user=dsn_user,\n",
    "   password=dsn_pwd,\n",
    "   host=dsn_hostname, \n",
    "   port= dsn_port\n",
    ")"
   ]
  },
  {
   "cell_type": "code",
   "execution_count": 4,
   "metadata": {},
   "outputs": [],
   "source": [
    "#Crreate a cursor onject using cursor() method\n",
    "\n",
    "cursor = conn.cursor()"
   ]
  },
  {
   "cell_type": "code",
   "execution_count": 5,
   "metadata": {},
   "outputs": [
    {
     "name": "stdout",
     "output_type": "stream",
     "text": [
      "Table created\n"
     ]
    }
   ],
   "source": [
    "# create table\n",
    "SQL = \"\"\"\n",
    "    CREATE TABLE IF NOT EXISTS products(\n",
    "        rowid INTEGER PRIMARY KEY NOT NULL,\n",
    "        product varchar(255) NOT NULL,\n",
    "        category varchar(255) NOT NULL\n",
    "        )\n",
    "    \"\"\"\n",
    "\n",
    "# Execute the SQL statement\n",
    "cursor.execute(SQL)\n",
    "\n",
    "print(\"Table created\")"
   ]
  },
  {
   "cell_type": "code",
   "execution_count": 6,
   "metadata": {},
   "outputs": [],
   "source": [
    "# insert data\n",
    "\n",
    "cursor.execute(\"INSERT INTO  products(rowid,product,category) VALUES(1,'Television','Electronics')\");\n",
    "\n",
    "cursor.execute(\"INSERT INTO  products(rowid,product,category) VALUES(2,'Laptop','Electronics')\");\n",
    "\n",
    "cursor.execute(\"INSERT INTO products(rowid,product,category) VALUES(3,'Mobile','Electronics')\");\n",
    "\n",
    "conn.commit()"
   ]
  },
  {
   "cell_type": "code",
   "execution_count": 7,
   "metadata": {},
   "outputs": [],
   "source": [
    "# insert list of Records\n",
    "\n",
    "list_ofrecords =[(5,'Mobile','Electronics'),(6,'Mobile','Electronics')]\n",
    "\n",
    "cursor = conn.cursor()\n",
    "\n",
    "for row in list_ofrecords:\n",
    "  \n",
    "   SQL=\"INSERT INTO products(rowid,product,category) values(%s,%s,%s)\" \n",
    "   cursor.execute(SQL,row);\n",
    "   conn.commit()"
   ]
  },
  {
   "cell_type": "code",
   "execution_count": 8,
   "metadata": {},
   "outputs": [],
   "source": [
    "# query data\n",
    "\n",
    "cursor.execute('SELECT * from products;')\n",
    "rows = cursor.fetchall()"
   ]
  },
  {
   "cell_type": "code",
   "execution_count": 9,
   "metadata": {},
   "outputs": [],
   "source": [
    "conn.commit()\n",
    "conn.close()"
   ]
  },
  {
   "cell_type": "code",
   "execution_count": 10,
   "metadata": {},
   "outputs": [
    {
     "name": "stdout",
     "output_type": "stream",
     "text": [
      "(1, 'Television', 'Electronics')\n",
      "(2, 'Laptop', 'Electronics')\n",
      "(3, 'Mobile', 'Electronics')\n",
      "(5, 'Mobile', 'Electronics')\n",
      "(6, 'Mobile', 'Electronics')\n"
     ]
    }
   ],
   "source": [
    "for row in rows:\n",
    "    print(row)"
   ]
  }
 ],
 "metadata": {
  "kernelspec": {
   "display_name": "Python 3",
   "language": "python",
   "name": "python3"
  },
  "language_info": {
   "codemirror_mode": {
    "name": "ipython",
    "version": 3
   },
   "file_extension": ".py",
   "mimetype": "text/x-python",
   "name": "python",
   "nbconvert_exporter": "python",
   "pygments_lexer": "ipython3",
   "version": "3.10.1"
  }
 },
 "nbformat": 4,
 "nbformat_minor": 2
}
